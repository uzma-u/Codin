{
 "cells":[
  {
   "cell_type":"code",
   "source":[
    "#Importing the library\n",
    "import pandas as pd\n",
    "#Reading csv data file\n",
    "data =pd.read_csv('IRIS.csv')\n",
    "print(data)"
   ],
   "execution_count":null,
   "outputs":[
    {
     "name":"stdout",
     "text":[
      "     sepal_length  sepal_width  petal_length  petal_width         species\n",
      "0             5.1          3.5           1.4          0.2     Iris-setosa\n",
      "1             4.9          3.0           1.4          0.2     Iris-setosa\n",
      "2             4.7          3.2           1.3          0.2     Iris-setosa\n",
      "3             4.6          3.1           1.5          0.2     Iris-setosa\n",
      "4             5.0          3.6           1.4          0.2     Iris-setosa\n",
      "..            ...          ...           ...          ...             ...\n",
      "145           6.7          3.0           5.2          2.3  Iris-virginica\n",
      "146           6.3          2.5           5.0          1.9  Iris-virginica\n",
      "147           6.5          3.0           5.2          2.0  Iris-virginica\n",
      "148           6.2          3.4           5.4          2.3  Iris-virginica\n",
      "149           5.9          3.0           5.1          1.8  Iris-virginica\n",
      "\n",
      "[150 rows x 5 columns]\n"
     ],
     "output_type":"stream"
    }
   ],
   "metadata":{
    "datalore":{
     "node_id":"0TNt2BcuZCQIl3l6POiBRL",
     "type":"CODE",
     "hide_input_from_viewers":false,
     "hide_output_from_viewers":false,
     "report_properties":{
      "rowId":"660KqWK240XROVDrP02aOw"
     }
    }
   }
  },
  {
   "cell_type":"code",
   "source":[
    "#information of data\n",
    "data.info()"
   ],
   "execution_count":null,
   "outputs":[
    {
     "name":"stdout",
     "text":[
      "<class 'pandas.core.frame.DataFrame'>\n",
      "RangeIndex: 150 entries, 0 to 149\n",
      "Data columns (total 5 columns):\n",
      " #   Column        Non-Null Count  Dtype  \n",
      "---  ------        --------------  -----  \n",
      " 0   sepal_length  150 non-null    float64\n",
      " 1   sepal_width   150 non-null    float64\n",
      " 2   petal_length  150 non-null    float64\n",
      " 3   petal_width   150 non-null    float64\n",
      " 4   species       150 non-null    object \n",
      "dtypes: float64(4), object(1)\n",
      "memory usage: 6.0+ KB\n"
     ],
     "output_type":"stream"
    }
   ],
   "metadata":{
    "datalore":{
     "node_id":"G7oH1oeT3bh68x3LE7DgHk",
     "type":"CODE",
     "hide_input_from_viewers":false,
     "hide_output_from_viewers":false,
     "report_properties":{
      "rowId":"s4TzDX7mRfMtzCvVvQeJgP"
     }
    }
   }
  },
  {
   "cell_type":"code",
   "source":[
    "data.index"
   ],
   "execution_count":null,
   "outputs":[
    {
     "data":{
      "text\/plain":[
       "RangeIndex(start=0, stop=150, step=1)"
      ]
     },
     "metadata":{
      
     },
     "output_type":"display_data"
    }
   ],
   "metadata":{
    "datalore":{
     "node_id":"oVINgVbYMpm0Ep2BukL8O5",
     "type":"CODE",
     "hide_input_from_viewers":false,
     "hide_output_from_viewers":false,
     "report_properties":{
      "rowId":"GjFdyYgbkMcaUznLiAsMwp"
     }
    }
   }
  },
  {
   "cell_type":"code",
   "source":[
    "data.describe()"
   ],
   "execution_count":null,
   "outputs":[
    {
     "data":{
      "text\/html":[
       "<div>\n",
       "<style scoped>\n",
       "    .dataframe tbody tr th:only-of-type {\n",
       "        vertical-align: middle;\n",
       "    }\n",
       "\n",
       "    .dataframe tbody tr th {\n",
       "        vertical-align: top;\n",
       "    }\n",
       "\n",
       "    .dataframe thead th {\n",
       "        text-align: right;\n",
       "    }\n",
       "<\/style>\n",
       "<table border=\"1\" class=\"dataframe\">\n",
       "  <thead>\n",
       "    <tr style=\"text-align: right;\">\n",
       "      <th><\/th>\n",
       "      <th>sepal_length<\/th>\n",
       "      <th>sepal_width<\/th>\n",
       "      <th>petal_length<\/th>\n",
       "      <th>petal_width<\/th>\n",
       "    <\/tr>\n",
       "  <\/thead>\n",
       "  <tbody>\n",
       "    <tr>\n",
       "      <th>count<\/th>\n",
       "      <td>150.000000<\/td>\n",
       "      <td>150.000000<\/td>\n",
       "      <td>150.000000<\/td>\n",
       "      <td>150.000000<\/td>\n",
       "    <\/tr>\n",
       "    <tr>\n",
       "      <th>mean<\/th>\n",
       "      <td>5.843333<\/td>\n",
       "      <td>3.054000<\/td>\n",
       "      <td>3.758667<\/td>\n",
       "      <td>1.198667<\/td>\n",
       "    <\/tr>\n",
       "    <tr>\n",
       "      <th>std<\/th>\n",
       "      <td>0.828066<\/td>\n",
       "      <td>0.433594<\/td>\n",
       "      <td>1.764420<\/td>\n",
       "      <td>0.763161<\/td>\n",
       "    <\/tr>\n",
       "    <tr>\n",
       "      <th>min<\/th>\n",
       "      <td>4.300000<\/td>\n",
       "      <td>2.000000<\/td>\n",
       "      <td>1.000000<\/td>\n",
       "      <td>0.100000<\/td>\n",
       "    <\/tr>\n",
       "    <tr>\n",
       "      <th>25%<\/th>\n",
       "      <td>5.100000<\/td>\n",
       "      <td>2.800000<\/td>\n",
       "      <td>1.600000<\/td>\n",
       "      <td>0.300000<\/td>\n",
       "    <\/tr>\n",
       "    <tr>\n",
       "      <th>50%<\/th>\n",
       "      <td>5.800000<\/td>\n",
       "      <td>3.000000<\/td>\n",
       "      <td>4.350000<\/td>\n",
       "      <td>1.300000<\/td>\n",
       "    <\/tr>\n",
       "    <tr>\n",
       "      <th>75%<\/th>\n",
       "      <td>6.400000<\/td>\n",
       "      <td>3.300000<\/td>\n",
       "      <td>5.100000<\/td>\n",
       "      <td>1.800000<\/td>\n",
       "    <\/tr>\n",
       "    <tr>\n",
       "      <th>max<\/th>\n",
       "      <td>7.900000<\/td>\n",
       "      <td>4.400000<\/td>\n",
       "      <td>6.900000<\/td>\n",
       "      <td>2.500000<\/td>\n",
       "    <\/tr>\n",
       "  <\/tbody>\n",
       "<\/table>\n",
       "<\/div>"
      ]
     },
     "metadata":{
      
     },
     "output_type":"display_data"
    }
   ],
   "metadata":{
    "datalore":{
     "node_id":"SmIh4EhVWC7cqbxYwyLpjN",
     "type":"CODE",
     "hide_input_from_viewers":false,
     "hide_output_from_viewers":false,
     "report_properties":{
      "rowId":"VYzBc9uDCEL5fAdvaTG1Bu"
     }
    }
   }
  },
  {
   "cell_type":"code",
   "source":[
    "#calculating null values\n",
    "data.isnull().sum()"
   ],
   "execution_count":null,
   "outputs":[
    {
     "data":{
      "text\/html":[
       "<pre>sepal_length    0\n",
       "sepal_width     0\n",
       "petal_length    0\n",
       "petal_width     0\n",
       "species         0\n",
       "dtype: int64<\/pre>"
      ]
     },
     "metadata":{
      
     },
     "output_type":"display_data"
    }
   ],
   "metadata":{
    "datalore":{
     "node_id":"GopoQzFLRwddJO3vyPXdB9",
     "type":"CODE",
     "hide_input_from_viewers":false,
     "hide_output_from_viewers":false,
     "report_properties":{
      "rowId":"WxTfdJyFieN0MtqFDgnxp8"
     }
    }
   }
  },
  {
   "cell_type":"code",
   "source":[
    "#counting columns\n",
    "data.columns"
   ],
   "execution_count":null,
   "outputs":[
    {
     "data":{
      "text\/plain":[
       "Index(['sepal_length', 'sepal_width', 'petal_length', 'petal_width',\n",
       "       'species'],\n",
       "      dtype='object')"
      ]
     },
     "metadata":{
      
     },
     "output_type":"display_data"
    }
   ],
   "metadata":{
    "datalore":{
     "node_id":"dPYYKlcUoAai1neMT8xiQL",
     "type":"CODE",
     "hide_input_from_viewers":false,
     "hide_output_from_viewers":false,
     "report_properties":{
      "rowId":"LFpbp8YZ72Gsrv5ZrYWscl"
     }
    }
   }
  },
  {
   "cell_type":"code",
   "source":[
    "columns = ['Sepal length', 'Sepal width', 'Petal length', 'Petal width', 'Class_labels'] \n",
    "# Load the data\n",
    "data = pd.read_csv('IRIS.csv', names=columns)\n",
    "data.head()"
   ],
   "execution_count":null,
   "outputs":[
    {
     "data":{
      "text\/html":[
       "<div>\n",
       "<style scoped>\n",
       "    .dataframe tbody tr th:only-of-type {\n",
       "        vertical-align: middle;\n",
       "    }\n",
       "\n",
       "    .dataframe tbody tr th {\n",
       "        vertical-align: top;\n",
       "    }\n",
       "\n",
       "    .dataframe thead th {\n",
       "        text-align: right;\n",
       "    }\n",
       "<\/style>\n",
       "<table border=\"1\" class=\"dataframe\">\n",
       "  <thead>\n",
       "    <tr style=\"text-align: right;\">\n",
       "      <th><\/th>\n",
       "      <th>Sepal length<\/th>\n",
       "      <th>Sepal width<\/th>\n",
       "      <th>Petal length<\/th>\n",
       "      <th>Petal width<\/th>\n",
       "      <th>Class_labels<\/th>\n",
       "    <\/tr>\n",
       "  <\/thead>\n",
       "  <tbody>\n",
       "    <tr>\n",
       "      <th>0<\/th>\n",
       "      <td>sepal_length<\/td>\n",
       "      <td>sepal_width<\/td>\n",
       "      <td>petal_length<\/td>\n",
       "      <td>petal_width<\/td>\n",
       "      <td>species<\/td>\n",
       "    <\/tr>\n",
       "    <tr>\n",
       "      <th>1<\/th>\n",
       "      <td>5.1<\/td>\n",
       "      <td>3.5<\/td>\n",
       "      <td>1.4<\/td>\n",
       "      <td>0.2<\/td>\n",
       "      <td>Iris-setosa<\/td>\n",
       "    <\/tr>\n",
       "    <tr>\n",
       "      <th>2<\/th>\n",
       "      <td>4.9<\/td>\n",
       "      <td>3<\/td>\n",
       "      <td>1.4<\/td>\n",
       "      <td>0.2<\/td>\n",
       "      <td>Iris-setosa<\/td>\n",
       "    <\/tr>\n",
       "    <tr>\n",
       "      <th>3<\/th>\n",
       "      <td>4.7<\/td>\n",
       "      <td>3.2<\/td>\n",
       "      <td>1.3<\/td>\n",
       "      <td>0.2<\/td>\n",
       "      <td>Iris-setosa<\/td>\n",
       "    <\/tr>\n",
       "    <tr>\n",
       "      <th>4<\/th>\n",
       "      <td>4.6<\/td>\n",
       "      <td>3.1<\/td>\n",
       "      <td>1.5<\/td>\n",
       "      <td>0.2<\/td>\n",
       "      <td>Iris-setosa<\/td>\n",
       "    <\/tr>\n",
       "  <\/tbody>\n",
       "<\/table>\n",
       "<\/div>"
      ]
     },
     "metadata":{
      
     },
     "output_type":"display_data"
    }
   ],
   "metadata":{
    "datalore":{
     "node_id":"JMNCuiOLoSVs5FQ1xRYyuP",
     "type":"CODE",
     "hide_input_from_viewers":false,
     "hide_output_from_viewers":false,
     "report_properties":{
      "rowId":"yXtVaTQohSvAtVI7zmDYEa"
     }
    }
   }
  },
  {
   "cell_type":"code",
   "source":[
    "columns = ['Sepal length', 'Sepal width', 'Petal length', 'Petal width', 'Class_labels'] \n",
    "import pandas as pd\n",
    "data = pd.read_csv('IRIS.csv', names=columns)\n",
    "data.tail()"
   ],
   "execution_count":null,
   "outputs":[
    {
     "data":{
      "text\/html":[
       "<div>\n",
       "<style scoped>\n",
       "    .dataframe tbody tr th:only-of-type {\n",
       "        vertical-align: middle;\n",
       "    }\n",
       "\n",
       "    .dataframe tbody tr th {\n",
       "        vertical-align: top;\n",
       "    }\n",
       "\n",
       "    .dataframe thead th {\n",
       "        text-align: right;\n",
       "    }\n",
       "<\/style>\n",
       "<table border=\"1\" class=\"dataframe\">\n",
       "  <thead>\n",
       "    <tr style=\"text-align: right;\">\n",
       "      <th><\/th>\n",
       "      <th>Sepal length<\/th>\n",
       "      <th>Sepal width<\/th>\n",
       "      <th>Petal length<\/th>\n",
       "      <th>Petal width<\/th>\n",
       "      <th>Class_labels<\/th>\n",
       "    <\/tr>\n",
       "  <\/thead>\n",
       "  <tbody>\n",
       "    <tr>\n",
       "      <th>146<\/th>\n",
       "      <td>6.7<\/td>\n",
       "      <td>3<\/td>\n",
       "      <td>5.2<\/td>\n",
       "      <td>2.3<\/td>\n",
       "      <td>Iris-virginica<\/td>\n",
       "    <\/tr>\n",
       "    <tr>\n",
       "      <th>147<\/th>\n",
       "      <td>6.3<\/td>\n",
       "      <td>2.5<\/td>\n",
       "      <td>5<\/td>\n",
       "      <td>1.9<\/td>\n",
       "      <td>Iris-virginica<\/td>\n",
       "    <\/tr>\n",
       "    <tr>\n",
       "      <th>148<\/th>\n",
       "      <td>6.5<\/td>\n",
       "      <td>3<\/td>\n",
       "      <td>5.2<\/td>\n",
       "      <td>2<\/td>\n",
       "      <td>Iris-virginica<\/td>\n",
       "    <\/tr>\n",
       "    <tr>\n",
       "      <th>149<\/th>\n",
       "      <td>6.2<\/td>\n",
       "      <td>3.4<\/td>\n",
       "      <td>5.4<\/td>\n",
       "      <td>2.3<\/td>\n",
       "      <td>Iris-virginica<\/td>\n",
       "    <\/tr>\n",
       "    <tr>\n",
       "      <th>150<\/th>\n",
       "      <td>5.9<\/td>\n",
       "      <td>3<\/td>\n",
       "      <td>5.1<\/td>\n",
       "      <td>1.8<\/td>\n",
       "      <td>Iris-virginica<\/td>\n",
       "    <\/tr>\n",
       "  <\/tbody>\n",
       "<\/table>\n",
       "<\/div>"
      ]
     },
     "metadata":{
      
     },
     "output_type":"display_data"
    }
   ],
   "metadata":{
    "datalore":{
     "node_id":"KBpT8yNSPHEtqNnibXTk3F",
     "type":"CODE",
     "hide_input_from_viewers":false,
     "hide_output_from_viewers":false,
     "report_properties":{
      "rowId":"XdWwp1DONdEF7wi6SsmymF"
     }
    }
   }
  },
  {
   "cell_type":"code",
   "source":[
    "#visualization\n",
    "import matplotlib.pyplot as plt"
   ],
   "execution_count":null,
   "outputs":[
    
   ],
   "metadata":{
    "datalore":{
     "node_id":"2Vdk4k5opHGjrrDUiMz5Hw",
     "type":"CODE",
     "hide_input_from_viewers":false,
     "hide_output_from_viewers":false,
     "report_properties":{
      "rowId":"A5LujqY0ZXtnFgPHHqnjTy"
     }
    }
   }
  },
  {
   "cell_type":"code",
   "source":[
    "data=pd.read_csv('IRIS.csv')\n",
    "plt.plot( data.sepal_length, data.sepal_width, \"r--\")\n",
    "plt.show"
   ],
   "execution_count":null,
   "outputs":[
    {
     "name":"stdout",
     "text":[
      "\n"
     ],
     "output_type":"stream"
    },
    {
     "name":"stderr",
     "text":[
      "\n"
     ],
     "output_type":"stream"
    },
    {
     "data":{
      "text\/plain":[
       "<function matplotlib.pyplot.show(close=None, block=None)>"
      ]
     },
     "metadata":{
      
     },
     "output_type":"display_data"
    },
    {
     "data":{
      "image\/png":"[encoded data removed]"
     },
     "metadata":{
      "image\/png":{
       
      }
     },
     "output_type":"display_data"
    }
   ],
   "metadata":{
    "datalore":{
     "node_id":"JuTfZMgYv6WESIDHeEWTuS",
     "type":"CODE",
     "hide_input_from_viewers":false,
     "hide_output_from_viewers":false,
     "report_properties":{
      "rowId":"JxRT5j3mKXX3Ym3BsCEG7D"
     }
    }
   }
  },
  {
   "cell_type":"code",
   "source":[
    "import matplotlib.pyplot as plt"
   ],
   "execution_count":null,
   "outputs":[
    
   ],
   "metadata":{
    "datalore":{
     "node_id":"p9z14UPv8sg7qBM0pTQcoR",
     "type":"CODE",
     "hide_input_from_viewers":true,
     "hide_output_from_viewers":true
    }
   }
  },
  {
   "cell_type":"code",
   "source":[
    "data=pd.read_csv('IRIS.csv')\n",
    "plt.plot( data.petal_length, data.petal_width, \"r--\")\n",
    "plt.show"
   ],
   "execution_count":null,
   "outputs":[
    {
     "name":"stdout",
     "text":[
      "\n"
     ],
     "output_type":"stream"
    },
    {
     "name":"stderr",
     "text":[
      "\n"
     ],
     "output_type":"stream"
    },
    {
     "data":{
      "text\/plain":[
       "<function matplotlib.pyplot.show(close=None, block=None)>"
      ]
     },
     "metadata":{
      
     },
     "output_type":"display_data"
    },
    {
     "data":{
      "image\/png":"[encoded data removed]"
     },
     "metadata":{
      "image\/png":{
       
      }
     },
     "output_type":"display_data"
    }
   ],
   "metadata":{
    "datalore":{
     "node_id":"wtpzRSZuNZeK7njKfBzsPD",
     "type":"CODE",
     "hide_input_from_viewers":true,
     "hide_output_from_viewers":true
    }
   }
  },
  {
   "cell_type":"code",
   "source":[
    "import warnings\n",
    "warnings.simplefilter(\"ignore\")\n",
    "\n",
    "data['species'].value_counts()"
   ],
   "execution_count":null,
   "outputs":[
    {
     "data":{
      "text\/html":[
       "<pre>Iris-setosa        50\n",
       "Iris-versicolor    50\n",
       "Iris-virginica     50\n",
       "Name: species, dtype: int64<\/pre>"
      ]
     },
     "metadata":{
      
     },
     "output_type":"display_data"
    }
   ],
   "metadata":{
    "datalore":{
     "node_id":"akXPGHDywCDK92vxtK49Lm",
     "type":"CODE",
     "hide_input_from_viewers":false,
     "hide_output_from_viewers":false,
     "report_properties":{
      "rowId":"oEmclB3bRyLMXsDDbzBrPL"
     }
    }
   }
  },
  {
   "cell_type":"code",
   "source":[
    "import seaborn as sns\n",
    "data=pd.read_csv('IRIS.csv')\n",
    "#countplot for petal length\n",
    "sns.countplot(data.petal_length);"
   ],
   "execution_count":null,
   "outputs":[
    {
     "data":{
      "image\/png":"[encoded data removed]"
     },
     "metadata":{
      "image\/png":{
       
      }
     },
     "output_type":"display_data"
    }
   ],
   "metadata":{
    "datalore":{
     "node_id":"DIgD3bTV6ODnMYvl25ap1O",
     "type":"CODE",
     "hide_input_from_viewers":false,
     "hide_output_from_viewers":false,
     "report_properties":{
      "rowId":"isQuaZXZlPykQi8PBbzhFT"
     }
    }
   }
  },
  {
   "cell_type":"code",
   "source":[
    "import seaborn as sns\n",
    "data=pd.read_csv('IRIS.csv')\n",
    "#countplot for petal width\n",
    "sns.countplot(data.petal_width);"
   ],
   "execution_count":null,
   "outputs":[
    {
     "data":{
      "image\/png":"[encoded data removed]"
     },
     "metadata":{
      "image\/png":{
       
      }
     },
     "output_type":"display_data"
    }
   ],
   "metadata":{
    "datalore":{
     "node_id":"p1OiEkUPsUzQ7a2eajLZ9p",
     "type":"CODE",
     "hide_input_from_viewers":true,
     "hide_output_from_viewers":true
    }
   }
  },
  {
   "cell_type":"code",
   "source":[
    "x=data.iloc[:,:4]\n",
    "y=data.iloc[:,4]\n",
    "print(x)\n",
    "print(y)"
   ],
   "execution_count":null,
   "outputs":[
    {
     "name":"stdout",
     "text":[
      "     sepal_length  sepal_width  petal_length  petal_width\n",
      "0             5.1          3.5           1.4          0.2\n",
      "1             4.9          3.0           1.4          0.2\n",
      "2             4.7          3.2           1.3          0.2\n",
      "3             4.6          3.1           1.5          0.2\n",
      "4             5.0          3.6           1.4          0.2\n",
      "..            ...          ...           ...          ...\n",
      "145           6.7          3.0           5.2          2.3\n",
      "146           6.3          2.5           5.0          1.9\n",
      "147           6.5          3.0           5.2          2.0\n",
      "148           6.2          3.4           5.4          2.3\n",
      "149           5.9          3.0           5.1          1.8\n",
      "\n",
      "[150 rows x 4 columns]\n",
      "0         Iris-setosa\n",
      "1         Iris-setosa\n",
      "2         Iris-setosa\n",
      "3         Iris-setosa\n",
      "4         Iris-setosa\n",
      "            ...      \n",
      "145    Iris-virginica\n",
      "146    Iris-virginica\n",
      "147    Iris-virginica\n",
      "148    Iris-virginica\n",
      "149    Iris-virginica\n",
      "Name: species, Length: 150, dtype: object\n"
     ],
     "output_type":"stream"
    }
   ],
   "metadata":{
    "datalore":{
     "node_id":"W34Lut3rzlEotXvzyjoocD",
     "type":"CODE",
     "hide_input_from_viewers":false,
     "hide_output_from_viewers":false,
     "report_properties":{
      "rowId":"6gzxchLzBmEN7fpaHUDhCa"
     }
    }
   }
  },
  {
   "cell_type":"code",
   "source":[
    "from sklearn.model_selection import train_test_split\n",
    "x_train,x_test,y_train,y_test=train_test_split(x,y,random_state=0)"
   ],
   "execution_count":null,
   "outputs":[
    
   ],
   "metadata":{
    "datalore":{
     "node_id":"97CX4h6gkHX8WClapiU0bo",
     "type":"CODE",
     "hide_input_from_viewers":false,
     "hide_output_from_viewers":false,
     "report_properties":{
      "rowId":"mSMxI5FRTnF4WrVelw8PJF"
     }
    }
   }
  },
  {
   "cell_type":"code",
   "source":[
    "x_train.shape"
   ],
   "execution_count":null,
   "outputs":[
    {
     "data":{
      "text\/plain":[
       "(112, 4)"
      ]
     },
     "metadata":{
      
     },
     "output_type":"display_data"
    }
   ],
   "metadata":{
    "datalore":{
     "node_id":"ihscwkl6maanqQeXisSqQm",
     "type":"CODE",
     "hide_input_from_viewers":false,
     "hide_output_from_viewers":false,
     "report_properties":{
      "rowId":"DyUnnO7GJFb8D1XPjeCEUZ"
     }
    }
   }
  },
  {
   "cell_type":"code",
   "source":[
    "x_test.shape"
   ],
   "execution_count":null,
   "outputs":[
    {
     "data":{
      "text\/plain":[
       "(38, 4)"
      ]
     },
     "metadata":{
      
     },
     "output_type":"display_data"
    }
   ],
   "metadata":{
    "datalore":{
     "node_id":"QcyZh4ZqOI4NqXs4eG2OQe",
     "type":"CODE",
     "hide_input_from_viewers":false,
     "hide_output_from_viewers":false,
     "report_properties":{
      "rowId":"Ab4eplvMu1edkzQ5Ts5NMV"
     }
    }
   }
  },
  {
   "cell_type":"code",
   "source":[
    "y_train.shape"
   ],
   "execution_count":null,
   "outputs":[
    {
     "data":{
      "text\/plain":[
       "(112,)"
      ]
     },
     "metadata":{
      
     },
     "output_type":"display_data"
    }
   ],
   "metadata":{
    "datalore":{
     "node_id":"o9BpSdGnFCzwGM1j4WxKSM",
     "type":"CODE",
     "hide_input_from_viewers":false,
     "hide_output_from_viewers":false,
     "report_properties":{
      "rowId":"7xnmSPoG7GLwOl4fTW7642"
     }
    }
   }
  },
  {
   "cell_type":"code",
   "source":[
    "y_test.shape"
   ],
   "execution_count":null,
   "outputs":[
    {
     "data":{
      "text\/plain":[
       "(38,)"
      ]
     },
     "metadata":{
      
     },
     "output_type":"display_data"
    }
   ],
   "metadata":{
    "datalore":{
     "node_id":"VyG8pGy8KREYAZdNhZQo1W",
     "type":"CODE",
     "hide_input_from_viewers":false,
     "hide_output_from_viewers":false,
     "report_properties":{
      "rowId":"Pt7B9Qgn33z1VE9WI6ogBu"
     }
    }
   }
  }
 ],
 "metadata":{
  "kernelspec":{
   "display_name":"Python",
   "language":"python",
   "name":"python"
  },
  "datalore":{
   "computation_mode":"JUPYTER",
   "package_manager":"pip",
   "base_environment":"default",
   "packages":[
    {
     "name":"x-axis-lib",
     "source":"PIP"
    }
   ],
   "report_row_ids":[
    "660KqWK240XROVDrP02aOw",
    "s4TzDX7mRfMtzCvVvQeJgP",
    "GjFdyYgbkMcaUznLiAsMwp",
    "VYzBc9uDCEL5fAdvaTG1Bu",
    "WxTfdJyFieN0MtqFDgnxp8",
    "LFpbp8YZ72Gsrv5ZrYWscl",
    "yXtVaTQohSvAtVI7zmDYEa",
    "XdWwp1DONdEF7wi6SsmymF",
    "A5LujqY0ZXtnFgPHHqnjTy",
    "JxRT5j3mKXX3Ym3BsCEG7D",
    "oEmclB3bRyLMXsDDbzBrPL",
    "isQuaZXZlPykQi8PBbzhFT",
    "6gzxchLzBmEN7fpaHUDhCa",
    "mSMxI5FRTnF4WrVelw8PJF",
    "DyUnnO7GJFb8D1XPjeCEUZ",
    "Ab4eplvMu1edkzQ5Ts5NMV",
    "7xnmSPoG7GLwOl4fTW7642",
    "Pt7B9Qgn33z1VE9WI6ogBu"
   ],
   "version":3
  }
 },
 "nbformat":4,
 "nbformat_minor":4
}